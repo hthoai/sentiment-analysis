{
 "cells": [
  {
   "cell_type": "markdown",
   "metadata": {
    "colab_type": "text",
    "id": "view-in-github"
   },
   "source": [
    "<a href=\"https://colab.research.google.com/github/hthoai/sentiment_analysis_tgdd/blob/master/data/parse_tgdd.ipynb\" target=\"_parent\"><img src=\"https://colab.research.google.com/assets/colab-badge.svg\" alt=\"Open In Colab\"/></a>"
   ]
  },
  {
   "cell_type": "code",
   "execution_count": 15,
   "metadata": {
    "cellView": "form",
    "colab": {},
    "colab_type": "code",
    "id": "mgfD4kP-002h"
   },
   "outputs": [],
   "source": [
    "#@title Import\n",
    "#pip install requests_html\n",
    "from requests_html import HTMLSession, HTML"
   ]
  },
  {
   "cell_type": "code",
   "execution_count": 16,
   "metadata": {
    "colab": {},
    "colab_type": "code",
    "id": "o3MGROvdaKZK"
   },
   "outputs": [],
   "source": [
    "session = HTMLSession()"
   ]
  },
  {
   "cell_type": "code",
   "execution_count": 21,
   "metadata": {
    "colab": {},
    "colab_type": "code",
    "id": "ThwS41jQaUUy"
   },
   "outputs": [],
   "source": [
    "url = 'https://www.thegioididong.com/dtdd/samsung-galaxy-note-10-plus/danh-gia?p=1'\n",
    "r = session.get(url)\n",
    "item = url.split('/')[-2]\n",
    "brand = item.split('-')[0]"
   ]
  },
  {
   "cell_type": "code",
   "execution_count": 23,
   "metadata": {
    "colab": {},
    "colab_type": "code",
    "id": "5azJNS4Vc2Qk"
   },
   "outputs": [],
   "source": [
    "file_name = f'{item}.csv'\n",
    "f = open(file_name, 'w', encoding='utf-16')\n",
    "f.write('content\\titem\\tbrand\\tstar\\tlink\\n')\n",
    "comments = r.html.find('.rc')\n",
    "link = url\n",
    "#brand = 'Samsung'\n",
    "#item = 'Samsung Galaxy Note 10+'\n",
    "\n",
    "for cmt in comments:\n",
    "    star = len(cmt.find('.iconcom-txtstar'))\n",
    "    if star > 0:\n",
    "        content = cmt.find('.rc', first=True).text\n",
    "        f.write(f'{content}\\t{item}\\t{brand}\\t{star}\\t{link}\\n')\n",
    "f.close()"
   ]
  },
  {
   "cell_type": "code",
   "execution_count": 14,
   "metadata": {},
   "outputs": [
    {
     "data": {
      "text/plain": [
       "'samsung-galaxy-note-10-plus.csv'"
      ]
     },
     "execution_count": 14,
     "metadata": {},
     "output_type": "execute_result"
    }
   ],
   "source": []
  },
  {
   "cell_type": "code",
   "execution_count": 11,
   "metadata": {},
   "outputs": [
    {
     "data": {
      "text/plain": [
       "'samsung'"
      ]
     },
     "execution_count": 11,
     "metadata": {},
     "output_type": "execute_result"
    }
   ],
   "source": []
  },
  {
   "cell_type": "code",
   "execution_count": null,
   "metadata": {},
   "outputs": [],
   "source": []
  }
 ],
 "metadata": {
  "accelerator": "GPU",
  "colab": {
   "collapsed_sections": [],
   "include_colab_link": true,
   "name": "parse_tgdd.ipynb",
   "provenance": []
  },
  "kernelspec": {
   "display_name": "Python 3",
   "language": "python",
   "name": "python3"
  },
  "language_info": {
   "codemirror_mode": {
    "name": "ipython",
    "version": 3
   },
   "file_extension": ".py",
   "mimetype": "text/x-python",
   "name": "python",
   "nbconvert_exporter": "python",
   "pygments_lexer": "ipython3",
   "version": "3.7.1"
  }
 },
 "nbformat": 4,
 "nbformat_minor": 1
}
