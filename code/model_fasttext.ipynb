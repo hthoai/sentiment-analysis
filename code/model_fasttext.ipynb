{
 "cells": [
  {
   "cell_type": "code",
   "execution_count": 34,
   "metadata": {},
   "outputs": [],
   "source": [
    "import pandas as pd\n",
    "import numpy as np\n",
    "import re\n",
    "import fasttext\n",
    "from pyvi import ViTokenizer\n",
    "from sklearn.base import BaseEstimator\n",
    "from sklearn.metrics import accuracy_score\n",
    "from sklearn.model_selection import cross_val_score, StratifiedKFold\n",
    "from sklearn.model_selection import train_test_split\n",
    "from sklearn.utils import shuffle"
   ]
  },
  {
   "cell_type": "code",
   "execution_count": 35,
   "metadata": {},
   "outputs": [],
   "source": [
    "# Load data\n",
    "df = pd.read_csv('data_processed.csv', encoding='utf-8')"
   ]
  },
  {
   "cell_type": "code",
   "execution_count": 36,
   "metadata": {},
   "outputs": [
    {
     "data": {
      "text/plain": [
       "(13872, 6)"
      ]
     },
     "execution_count": 36,
     "metadata": {},
     "output_type": "execute_result"
    }
   ],
   "source": [
    "df.shape"
   ]
  },
  {
   "cell_type": "code",
   "execution_count": 37,
   "metadata": {},
   "outputs": [
    {
     "data": {
      "text/plain": [
       "Counter({1: 10888, 0: 2984})"
      ]
     },
     "execution_count": 37,
     "metadata": {},
     "output_type": "execute_result"
    }
   ],
   "source": [
    "from collections import Counter\n",
    "Counter(df.ground)"
   ]
  },
  {
   "cell_type": "code",
   "execution_count": 38,
   "metadata": {},
   "outputs": [],
   "source": [
    "# Convert text to lowercase\n",
    "df['content'] = df['content'].str.lower()\n",
    "# Remove numbers and words with numbers\n",
    "df['content'] = df['content'].str.replace('\\w*\\d\\w*', ' ')\n",
    "# Remove punctuation\n",
    "df['content'] = df['content'].str.replace('[^\\w\\s]', ' ')\n",
    "# Remove whitespaces\n",
    "df['content'] =  df['content'].str.split().apply(lambda x : ' '.join(word for word in x))\n",
    "# Tokenize\n",
    "# df['content'] = df['content'].apply(lambda x : ViTokenizer.tokenize(x))"
   ]
  },
  {
   "cell_type": "code",
   "execution_count": null,
   "metadata": {},
   "outputs": [],
   "source": [
    "df['content']"
   ]
  },
  {
   "cell_type": "code",
   "execution_count": 11,
   "metadata": {},
   "outputs": [],
   "source": [
    "# df.to_csv('checked/data_processed.csv', sep='\\t', encoding='utf-16')"
   ]
  },
  {
   "cell_type": "code",
   "execution_count": 40,
   "metadata": {},
   "outputs": [
    {
     "name": "stdout",
     "output_type": "stream",
     "text": [
      "(10888, 6) (2984, 6)\n"
     ]
    },
    {
     "data": {
      "text/plain": [
       "(6238, 6)"
      ]
     },
     "execution_count": 40,
     "metadata": {},
     "output_type": "execute_result"
    }
   ],
   "source": [
    "dfP = df[df.ground == 1]\n",
    "dfN = df[df.ground == 0]\n",
    "print(dfP.shape, dfN.shape)\n",
    "dff = pd.concat([dfN, dfP[:3254]])\n",
    "dff.shape"
   ]
  },
  {
   "cell_type": "code",
   "execution_count": 41,
   "metadata": {},
   "outputs": [
    {
     "data": {
      "text/plain": [
       "Counter({1: 3254, 0: 2984})"
      ]
     },
     "execution_count": 41,
     "metadata": {},
     "output_type": "execute_result"
    }
   ],
   "source": [
    "dff = shuffle(dff)\n",
    "Counter(dff.ground)"
   ]
  },
  {
   "cell_type": "code",
   "execution_count": 42,
   "metadata": {},
   "outputs": [],
   "source": [
    "train, test = train_test_split(dff, test_size=0.2)"
   ]
  },
  {
   "cell_type": "code",
   "execution_count": 43,
   "metadata": {},
   "outputs": [
    {
     "data": {
      "text/html": [
       "<div>\n",
       "<style scoped>\n",
       "    .dataframe tbody tr th:only-of-type {\n",
       "        vertical-align: middle;\n",
       "    }\n",
       "\n",
       "    .dataframe tbody tr th {\n",
       "        vertical-align: top;\n",
       "    }\n",
       "\n",
       "    .dataframe thead th {\n",
       "        text-align: right;\n",
       "    }\n",
       "</style>\n",
       "<table border=\"1\" class=\"dataframe\">\n",
       "  <thead>\n",
       "    <tr style=\"text-align: right;\">\n",
       "      <th></th>\n",
       "      <th>content</th>\n",
       "      <th>predicted</th>\n",
       "      <th>ground</th>\n",
       "      <th>star</th>\n",
       "      <th>item</th>\n",
       "      <th>brand</th>\n",
       "    </tr>\n",
       "  </thead>\n",
       "  <tbody>\n",
       "    <tr>\n",
       "      <th>1451</th>\n",
       "      <td>loa nghe rõ lớn pin tốt được khoảng hơn ngày n...</td>\n",
       "      <td>1</td>\n",
       "      <td>1</td>\n",
       "      <td>4</td>\n",
       "      <td>nokia-105</td>\n",
       "      <td>nokia</td>\n",
       "    </tr>\n",
       "    <tr>\n",
       "      <th>6359</th>\n",
       "      <td>lúc đầu thì rất êm rất mượt nhưng chừng một th...</td>\n",
       "      <td>0</td>\n",
       "      <td>0</td>\n",
       "      <td>3</td>\n",
       "      <td>samsung-galaxy-j1</td>\n",
       "      <td>samsung</td>\n",
       "    </tr>\n",
       "    <tr>\n",
       "      <th>4179</th>\n",
       "      <td>xài gần tháng cảm thấy máy bị đơ vân tay chạm ...</td>\n",
       "      <td>0</td>\n",
       "      <td>0</td>\n",
       "      <td>2</td>\n",
       "      <td>vivo-v7</td>\n",
       "      <td>vivo</td>\n",
       "    </tr>\n",
       "    <tr>\n",
       "      <th>13508</th>\n",
       "      <td>nói chung tầm giá này thì k đòi hỏi gì nhiều c...</td>\n",
       "      <td>0</td>\n",
       "      <td>0</td>\n",
       "      <td>4</td>\n",
       "      <td>xiaomi-redmi-7a</td>\n",
       "      <td>xiaomi</td>\n",
       "    </tr>\n",
       "    <tr>\n",
       "      <th>967</th>\n",
       "      <td>máy có thiết kế trẻ trung sành điệu theo xu hư...</td>\n",
       "      <td>1</td>\n",
       "      <td>1</td>\n",
       "      <td>5</td>\n",
       "      <td>coolpad-n5</td>\n",
       "      <td>coolpad</td>\n",
       "    </tr>\n",
       "  </tbody>\n",
       "</table>\n",
       "</div>"
      ],
      "text/plain": [
       "                                                 content  predicted  ground  \\\n",
       "1451   loa nghe rõ lớn pin tốt được khoảng hơn ngày n...          1       1   \n",
       "6359   lúc đầu thì rất êm rất mượt nhưng chừng một th...          0       0   \n",
       "4179   xài gần tháng cảm thấy máy bị đơ vân tay chạm ...          0       0   \n",
       "13508  nói chung tầm giá này thì k đòi hỏi gì nhiều c...          0       0   \n",
       "967    máy có thiết kế trẻ trung sành điệu theo xu hư...          1       1   \n",
       "\n",
       "       star               item    brand  \n",
       "1451      4          nokia-105    nokia  \n",
       "6359      3  samsung-galaxy-j1  samsung  \n",
       "4179      2            vivo-v7     vivo  \n",
       "13508     4    xiaomi-redmi-7a   xiaomi  \n",
       "967       5         coolpad-n5  coolpad  "
      ]
     },
     "execution_count": 43,
     "metadata": {},
     "output_type": "execute_result"
    }
   ],
   "source": [
    "train.tail()"
   ]
  },
  {
   "cell_type": "code",
   "execution_count": 44,
   "metadata": {},
   "outputs": [],
   "source": [
    "texts = train['content'].tolist()\n",
    "labels = train['ground'].tolist()"
   ]
  },
  {
   "cell_type": "code",
   "execution_count": 45,
   "metadata": {},
   "outputs": [],
   "source": [
    "# Convert file to FastText format\n",
    "def store_file_fasttext_format(outfile_dir, texts, labels):\n",
    "    \"\"\"\n",
    "    Store texts and labels to fasttext format file\n",
    "    \"\"\"\n",
    "    with open(outfile_dir, 'w') as f:\n",
    "        for i in range(0, len(texts)):\n",
    "            f.write('__label__%s %s\\n' % (labels[i], texts[i]))"
   ]
  },
  {
   "cell_type": "code",
   "execution_count": 46,
   "metadata": {},
   "outputs": [],
   "source": [
    "class FastTextEstimator(BaseEstimator):\n",
    "    def __init__(self, model_dir, epoch_val=5, lr_val=0.1):\n",
    "        \"\"\"Initial model and model directory\"\"\"\n",
    "        self.model_dir = model_dir\n",
    "        self.model = None\n",
    "        self.epoch_val = epoch_val\n",
    "        self.lr_val = lr_val\n",
    "    def fit(self, texts, labels):\n",
    "        \"\"\"Fit the model using `texts` and `labels` in fasttext format\n",
    "\n",
    "        Parameters\n",
    "        ----------\n",
    "        texts : list\n",
    "        labels : list\n",
    "        \"\"\"\n",
    "        # Save texts and labels in fasttext format file\n",
    "        store_file_fasttext_format(\n",
    "            self.model_dir+'train.txt',\n",
    "            texts,\n",
    "            labels)\n",
    "        # Train with specific hyperparameters\n",
    "        self.model = fasttext.train_supervised(\n",
    "            self.model_dir+'train.txt',\n",
    "            dim=300,\n",
    "#             pretrainedVectors=self.model_dir+'cc.vi.300.vec',\n",
    "            epoch=self.epoch_val,\n",
    "            lr=self.lr_val)\n",
    "        return self\n",
    "    def predict(self, texts):\n",
    "        \"\"\"Predict the class labels for the provided texts\n",
    "\n",
    "        Parameters\n",
    "        ----------\n",
    "        texts : list\n",
    "\n",
    "        Returns: class labels for each text\n",
    "        \"\"\"\n",
    "        predicted_labels = []\n",
    "        predictions = self.model.predict(texts)[0]\n",
    "        # Convert predicted labels from text to string for f1 score function\n",
    "        for prediction in predictions:\n",
    "            predicted_labels.append(0 if prediction[0] == '__label__0' else 1)\n",
    "        return np.array(predicted_labels)\n",
    "    def score(self, texts, labels):\n",
    "        \"\"\"Compute accuracy score for the given text and prediction\n",
    "\n",
    "        Parameters\n",
    "        ----------\n",
    "        texts : list\n",
    "        labels : list\n",
    "        \n",
    "        Return: accuracy score\n",
    "        \"\"\"\n",
    "        predicted_labels = self.predict(texts)\n",
    "        return accuracy_score(labels, predicted_labels)"
   ]
  },
  {
   "cell_type": "code",
   "execution_count": 47,
   "metadata": {},
   "outputs": [
    {
     "name": "stdout",
     "output_type": "stream",
     "text": [
      "[0.872      0.884      0.88577154 0.89178357 0.90180361 0.88977956\n",
      " 0.8757515  0.85571142 0.8935743  0.87951807]\n"
     ]
    },
    {
     "data": {
      "text/plain": [
       "0.8829693571882722"
      ]
     },
     "execution_count": 47,
     "metadata": {},
     "output_type": "execute_result"
    }
   ],
   "source": [
    "MODEL_DIR = ''\n",
    "clf = FastTextEstimator(model_dir=MODEL_DIR)\n",
    "clf.__init__(model_dir=MODEL_DIR, epoch_val=29, lr_val=0.1)\n",
    "scores = cross_val_score(\n",
    "    clf,\n",
    "    texts,\n",
    "    labels,\n",
    "    cv=StratifiedKFold(n_splits=10),\n",
    "    scoring='accuracy')\n",
    "print(scores)\n",
    "scores.mean()"
   ]
  },
  {
   "cell_type": "code",
   "execution_count": 48,
   "metadata": {},
   "outputs": [
    {
     "data": {
      "text/plain": [
       "0.8990384615384616"
      ]
     },
     "execution_count": 48,
     "metadata": {},
     "output_type": "execute_result"
    }
   ],
   "source": [
    "clf = FastTextEstimator(model_dir=MODEL_DIR)\n",
    "clf.__init__(model_dir=MODEL_DIR, epoch_val=29, lr_val=0.1)\n",
    "clf.fit(texts, labels)\n",
    "clf.score(test['content'].tolist(), test['ground'].tolist())"
   ]
  }
 ],
 "metadata": {
  "kernelspec": {
   "display_name": "Python 3",
   "language": "python",
   "name": "python3"
  },
  "language_info": {
   "codemirror_mode": {
    "name": "ipython",
    "version": 3
   },
   "file_extension": ".py",
   "mimetype": "text/x-python",
   "name": "python",
   "nbconvert_exporter": "python",
   "pygments_lexer": "ipython3",
   "version": "3.6.8"
  }
 },
 "nbformat": 4,
 "nbformat_minor": 4
}
